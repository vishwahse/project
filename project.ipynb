{
 "cells": [
  {
   "cell_type": "code",
   "execution_count": 103,
   "metadata": {},
   "outputs": [],
   "source": [
    "import pandas as pd\n",
    "data = pd.read_csv('#ссылка на данные')\n",
    "df = pd.DataFrame(data)"
   ]
  },
  {
   "cell_type": "code",
   "execution_count": null,
   "metadata": {},
   "outputs": [],
   "source": [
    "i = 1\n",
    "count = 0\n",
    "z = 0\n",
    "for v in data['english']:\n",
    "    if (v == 'Да' and v != '') or (data['languages'].iloc[i].lower() != \"нет\"):\n",
    "        count += 1\n",
    "        if (i == 99):\n",
    "            break\n",
    "        a = data['loan_solution'].iloc[i]\n",
    "        if(\"заимствовать\" in a):\n",
    "            z += 1\n",
    "    i += 1\n",
    "loan_positive = \"{:.2f}\".format(z/count * 100)\n",
    "loan_negative = \"{:.2f}\".format(100 - (z/count * 100))\n",
    "print(\"Процент носителей иностранного языка, которые заимствуют слова: \")\n",
    "print(loan_positive + \"%\")\n",
    "print(\"Процент носителей иностранного языка, которые не заимствуют слова: \")\n",
    "print(loan_negative + \"%\")\n",
    "df = pd.DataFrame({'': [float(loan_positive), float(loan_negative)]}, index=['Использующие', 'Неиспользующие'])\n",
    "plot = df.plot.pie(y = '', figsize=(5, 5), colors = [\"#dd7d6a\", \"#f9cb9c\"])"
   ]
  },
  {
   "cell_type": "code",
   "execution_count": null,
   "metadata": {},
   "outputs": [],
   "source": []
  }
 ],
 "metadata": {
  "kernelspec": {
   "display_name": "Python 3",
   "language": "python",
   "name": "python3"
  },
  "language_info": {
   "codemirror_mode": {
    "name": "ipython",
    "version": 3
   },
   "file_extension": ".py",
   "mimetype": "text/x-python",
   "name": "python",
   "nbconvert_exporter": "python",
   "pygments_lexer": "ipython3",
   "version": "3.8.3"
  }
 },
 "nbformat": 4,
 "nbformat_minor": 4
}
